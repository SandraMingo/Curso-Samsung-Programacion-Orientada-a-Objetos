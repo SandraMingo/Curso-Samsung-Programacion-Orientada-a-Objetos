{
 "cells": [
  {
   "cell_type": "markdown",
   "metadata": {},
   "source": [
    "## Simple class II"
   ]
  },
  {
   "cell_type": "markdown",
   "metadata": {},
   "source": [
    "### 1. Class inheritance:"
   ]
  },
  {
   "cell_type": "code",
   "execution_count": 1,
   "metadata": {},
   "outputs": [],
   "source": [
    "# ADD CODE. Define a Pet class. The constructor requires the name of the pet. \n",
    "class Pet:\n",
    "    counter = 0\n",
    "    \n",
    "    def __init__(self, name):\n",
    "        self.__name = name\n",
    "        Pet.counter += 1\n",
    "        \n",
    "    def __del__(self):\n",
    "        Pet.counter -= 1\n",
    "\n",
    "# A class variable \"counter\" will be defined. It will be incremented in the constructor method and decremented in\n",
    "# the destructor method."
   ]
  },
  {
   "cell_type": "markdown",
   "metadata": {},
   "source": [
    "Cat and Dog inherit from the Pet class: "
   ]
  },
  {
   "cell_type": "code",
   "execution_count": 2,
   "metadata": {},
   "outputs": [],
   "source": [
    "class Cat(Pet):              # ADD CODE. Indicates that the cat class inherits from the pet class             \n",
    "    def purr(self):\n",
    "        print(self.__name + ' is purring...')\n",
    "        \n",
    "class Dog(Pet):              # ADD CODE. Indicates that the dog class inherits from the pet class\n",
    "    def bark(self):\n",
    "        print(self.name + ' is barking...')"
   ]
  },
  {
   "cell_type": "code",
   "execution_count": 3,
   "metadata": {},
   "outputs": [],
   "source": [
    "a_cat = Cat(\"Kitty\")                     # ADD CODE. Create a cat with name \"Kitty\"\n",
    "a_dog = Dog(\"Fido\")                     # ADD CODE. Create a dog with name \"Fido\" "
   ]
  },
  {
   "cell_type": "code",
   "execution_count": 4,
   "metadata": {},
   "outputs": [
    {
     "ename": "AttributeError",
     "evalue": "'Cat' object has no attribute '_Cat__name'",
     "output_type": "error",
     "traceback": [
      "\u001b[1;31m---------------------------------------------------------------------------\u001b[0m",
      "\u001b[1;31mAttributeError\u001b[0m                            Traceback (most recent call last)",
      "Cell \u001b[1;32mIn[4], line 2\u001b[0m\n\u001b[0;32m      1\u001b[0m \u001b[38;5;66;03m# ADD CODE. Call the method \"purr\" of the cat\u001b[39;00m\n\u001b[1;32m----> 2\u001b[0m \u001b[43ma_cat\u001b[49m\u001b[38;5;241;43m.\u001b[39;49m\u001b[43mpurr\u001b[49m\u001b[43m(\u001b[49m\u001b[43m)\u001b[49m\n",
      "Cell \u001b[1;32mIn[2], line 3\u001b[0m, in \u001b[0;36mCat.purr\u001b[1;34m(self)\u001b[0m\n\u001b[0;32m      2\u001b[0m \u001b[38;5;28;01mdef\u001b[39;00m \u001b[38;5;21mpurr\u001b[39m(\u001b[38;5;28mself\u001b[39m):\n\u001b[1;32m----> 3\u001b[0m     \u001b[38;5;28mprint\u001b[39m(\u001b[38;5;28;43mself\u001b[39;49m\u001b[38;5;241;43m.\u001b[39;49m\u001b[43m__name\u001b[49m \u001b[38;5;241m+\u001b[39m \u001b[38;5;124m'\u001b[39m\u001b[38;5;124m is purring...\u001b[39m\u001b[38;5;124m'\u001b[39m)\n",
      "\u001b[1;31mAttributeError\u001b[0m: 'Cat' object has no attribute '_Cat__name'"
     ]
    }
   ],
   "source": [
    "# ADD CODE. Call the method \"purr\" of the cat\n",
    "a_cat.purr()"
   ]
  },
  {
   "cell_type": "code",
   "execution_count": null,
   "metadata": {},
   "outputs": [],
   "source": [
    "# ADD CODE. Call the method \"bark\" of the dog\n",
    "a_dog.bark()"
   ]
  },
  {
   "cell_type": "markdown",
   "metadata": {},
   "source": [
    "Shitzu and Beagle inherit from the Dog class:"
   ]
  },
  {
   "cell_type": "code",
   "execution_count": null,
   "metadata": {},
   "outputs": [],
   "source": [
    "# ADD CODE. Define a Shitzu class that inherits from the Dog class. \n",
    "# It has two methods \"sleep\" and \"play\" which show a message. \n",
    "# For instance, the sleep method can show: \"Ruby sleeps 10 hours a day\". \n",
    "class Shitzu(Dog):\n",
    "    def sleep(self):\n",
    "        print(self.name, \"sleeps...\")\n",
    "        \n",
    "    def play(self):\n",
    "        print(self.name, \"wants to play with you.\")\n",
    "\n",
    "# ADD CODE. Define a Beagle class that inherits from the Dog class. \n",
    "# It has the same methods that the previous class with the same behaviour. \n",
    "class Beagle(Dog):\n",
    "    def sleep(self):\n",
    "        print(self.name, \"sleeps...\")\n",
    "        \n",
    "    def play(self):\n",
    "        print(self.name, \"wants to play with you.\")\n"
   ]
  },
  {
   "cell_type": "code",
   "execution_count": null,
   "metadata": {},
   "outputs": [],
   "source": [
    "# ADD CODE. Create three dog objects of the previous class. Remember that the constructor call is the same \n",
    "# as in the Pet superclass. \n",
    "perro1 = Shitzu(\"Lola\")\n",
    "perro2 = Beagle(\"Gaby\")\n",
    "perro3 = Shitzu(\"Rufo\")"
   ]
  },
  {
   "cell_type": "code",
   "execution_count": null,
   "metadata": {},
   "outputs": [],
   "source": [
    "# ADD CODE. Call the methods of the previous objects (sleep and play)\n",
    "\n",
    "perro1.sleep()\n",
    "perro2.play()"
   ]
  },
  {
   "cell_type": "code",
   "execution_count": null,
   "metadata": {},
   "outputs": [],
   "source": [
    "# ADD CODE. Show the counter of the Pet class\n",
    "Pet.counter"
   ]
  },
  {
   "cell_type": "code",
   "execution_count": null,
   "metadata": {},
   "outputs": [],
   "source": [
    "# ADD CODE. Delete a dog object\n",
    "del perro2"
   ]
  },
  {
   "cell_type": "code",
   "execution_count": null,
   "metadata": {},
   "outputs": [],
   "source": [
    "# ADD CODE. Show the counter again\n",
    "Pet.counter"
   ]
  }
 ],
 "metadata": {
  "kernelspec": {
   "display_name": "Python 3 (ipykernel)",
   "language": "python",
   "name": "python3"
  },
  "language_info": {
   "codemirror_mode": {
    "name": "ipython",
    "version": 3
   },
   "file_extension": ".py",
   "mimetype": "text/x-python",
   "name": "python",
   "nbconvert_exporter": "python",
   "pygments_lexer": "ipython3",
   "version": "3.10.9"
  }
 },
 "nbformat": 4,
 "nbformat_minor": 2
}
