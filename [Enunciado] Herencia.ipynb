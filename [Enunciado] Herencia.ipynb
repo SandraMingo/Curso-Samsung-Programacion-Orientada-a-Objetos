{
 "cells": [
  {
   "cell_type": "markdown",
   "id": "5bb8db8a",
   "metadata": {},
   "source": [
    "## Herencia\n",
    "\n",
    "La **herencia** permite crear nuevas clases (llamadas clases derivadas o *subclases*) basadas en clases existentes (llamadas clases base o *superclases*). La herencia permite que las subclases hereden atributos y métodos de sus superclases, lo que promueve la reutilización de código y facilita la creación de una jerarquía de clases.\n",
    "\n",
    "### Ejercicio 1\n",
    "Definir las clases `Vehiculo`, `Automovil` y `Motocicleta` en Python. La clase `Vehiculo` representa un vehículo genérico y tiene los atributos `marca` y `modelo`. Además, tiene un método `obtener_informacion()` que devuelve una cadena de texto con la información básica del vehículo.\n",
    "\n",
    "La clase `Automovil` hereda de la clase `Vehiculo` y agrega el atributo `puertas`, que representa la cantidad de puertas del automóvil. Además, redefine el método `obtener_informacion()` para incluir la información específica de un automóvil, mostrando también la cantidad de puertas.\n",
    "\n",
    "La clase `Motocicleta` también hereda de la clase `Vehiculo` y agrega el atributo `cilindrada`, que representa la cilindrada de la motocicleta en centímetros cúbicos. Al igual que la clase `Automovil`, redefine el método `obtener_informacion()` para incluir la información específica de una motocicleta, mostrando también la cilindrada.\n",
    "\n",
    "Crear instancias de las clases `Automovil` y `Motocicleta`, pasando los valores adecuados para los atributos, y llamar al método `obtener_informacion()` de cada objeto para mostrar la información completa de cada vehículo.\n"
   ]
  },
  {
   "cell_type": "code",
   "execution_count": null,
   "id": "794a58bf",
   "metadata": {},
   "outputs": [],
   "source": [
    "# Define la clase Vehículo\n",
    "class Vehiculo:\n",
    "    def __init__(self, marca, modelo):\n",
    "        self.marca = marca\n",
    "        self.modelo = modelo\n",
    "        \n",
    "    def obtener_informacion(self):\n",
    "        return f\"Vehiculo(marca = '{self.marca}', modelo = {self.modelo})\""
   ]
  },
  {
   "cell_type": "code",
   "execution_count": null,
   "id": "4b962aa5",
   "metadata": {},
   "outputs": [],
   "source": [
    "# Define la clase Automovil\n",
    "class Automovil(Vehiculo):\n",
    "    def __init__ (self, marca, modelo, puertas):\n",
    "        super().__init__(marca, modelo)\n",
    "        self.puertas = puertas\n",
    "        \n",
    "    def obtener_informacion(self):\n",
    "        return f\"Vehiculo(marca = '{self.marca}', modelo = {self.modelo}, puertas = '{self.puertas}')\"        "
   ]
  },
  {
   "cell_type": "code",
   "execution_count": null,
   "id": "1eef5120",
   "metadata": {},
   "outputs": [],
   "source": [
    "# Define la clase Motocicleta\n",
    "class Motocicleta(Vehiculo):\n",
    "    def __init__ (self, marca, modelo, cilindrada):\n",
    "        super().__init__(marca, modelo)\n",
    "        self.cilindrada = cilindrada\n",
    "        \n",
    "    def obtener_informacion(self):\n",
    "        return f\"Vehiculo(marca = '{self.marca}', modelo = {self.modelo}, cilindrada = '{self.cilindrada}')\"        "
   ]
  },
  {
   "cell_type": "code",
   "execution_count": null,
   "id": "c94b8ba7",
   "metadata": {},
   "outputs": [],
   "source": [
    "# Crea instancias u objetos de las clases anteriores\n",
    "coche1 = Automovil(\"Audi\", \"A4\",\"5\")\n",
    "print(coche1.obtener_informacion())\n",
    "\n",
    "moto1 = Motocicleta(\"Mercedes\", \"loquesea\", \"cilindro\")\n",
    "print(moto1.obtener_informacion())"
   ]
  },
  {
   "cell_type": "markdown",
   "id": "65bfc741",
   "metadata": {},
   "source": [
    "Lo siguiente es igual pero con los **atributos privados**:"
   ]
  },
  {
   "cell_type": "code",
   "execution_count": 1,
   "id": "9deecf5c",
   "metadata": {},
   "outputs": [],
   "source": [
    "class Vehiculo:\n",
    "    def __init__(self, marca, modelo):\n",
    "        self.__marca = marca\n",
    "        self.__modelo = modelo\n",
    "        \n",
    "    def obtener_informacion(self):\n",
    "        return f\"Vehiculo(marca='{self.marca}', modelo={self.modelo})\"\n",
    "\n",
    "    @property\n",
    "    def marca(self):\n",
    "        return self.__marca\n",
    "    \n",
    "    @marca.setter\n",
    "    def marca(self, marca):\n",
    "        self.__marca = marca\n",
    "        \n",
    "    @property\n",
    "    def modelo(self):\n",
    "        return self.__modelo\n",
    "    \n",
    "    @modelo.setter\n",
    "    def modelo(self, modelo):\n",
    "        self.__modelo = modelo"
   ]
  },
  {
   "cell_type": "code",
   "execution_count": 8,
   "id": "a5c7e199",
   "metadata": {},
   "outputs": [],
   "source": [
    "class Automovil(Vehiculo):\n",
    "    def __init__(self, marca, modelo, puertas):\n",
    "        super().__init__(marca, modelo)\n",
    "        self.puertas = puertas\n",
    "        \n",
    "    def obtener_informacion(self):\n",
    "        return f\"{super().obtener_informacion()}, puertas={self.puertas})\""
   ]
  },
  {
   "cell_type": "code",
   "execution_count": 4,
   "id": "a36f3886",
   "metadata": {},
   "outputs": [],
   "source": [
    "class Motocicleta(Vehiculo):\n",
    "    def __init__(self, marca, modelo, cilindrada):\n",
    "        super().__init__(marca, modelo)\n",
    "        self.cilindrada = cilindrada\n",
    "        \n",
    "    def obtener_informacion(self):\n",
    "        return f\"{super().obtener_informacion()}, cilindrada={self.cilindrada})\""
   ]
  },
  {
   "cell_type": "code",
   "execution_count": 9,
   "id": "29b87bdf",
   "metadata": {},
   "outputs": [
    {
     "name": "stdout",
     "output_type": "stream",
     "text": [
      "Vehiculo(marca='Toyota', modelo=Corolla), puertas=4)\n",
      "Vehiculo(marca='Honda', modelo=CBR453), cilindrada=600)\n"
     ]
    }
   ],
   "source": [
    "automovil = Automovil(\"Toyota\", \"Corolla\", 4)\n",
    "m = Motocicleta(\"Honda\", \"CBR453\", 600)\n",
    "\n",
    "print(automovil.obtener_informacion())\n",
    "print(m.obtener_informacion())"
   ]
  },
  {
   "cell_type": "markdown",
   "id": "5bb045c2",
   "metadata": {},
   "source": [
    "### Ejercicio 2\n",
    "\n",
    "Completa la siguiente clase **BaseClass** que contiene dos atributos o variables de instancia *x* e *y* con visibilidad pública y tres métodos *method_1*, *method_2* y *method_3* que simplemente muestran un mensaje de texto por pantalla. Define el constructor, destructor y método especial *str*.  "
   ]
  },
  {
   "cell_type": "code",
   "execution_count": 11,
   "id": "e8a1f431",
   "metadata": {},
   "outputs": [],
   "source": [
    "class BaseClass:\n",
    "\n",
    "    # ADD CODE. Define the constructor with two input parameters. It assigns member variables 'x' and 'y'    \n",
    "    def __init__(self, x, y):\n",
    "        self.x = x\n",
    "        self.y = y\n",
    "    \n",
    "    # ADD CODE. Define the destructor method \n",
    "    def __del__(self):\n",
    "        print(\"Se ha eliminado.\")\n",
    "    \n",
    "    # ADD CODE. Define the 'str' method\n",
    "    def __str__(self):\n",
    "        return f\"x = '{self.x}', y = {self.y}\"\n",
    "    \n",
    "    # ADD CODE. Define the following methods: method_1, method_2 and method_3 \n",
    "    def method_1(self):\n",
    "        print(\"Has usado el método 1.\")\n",
    "        \n",
    "    def method_2(self):\n",
    "        print(\"Has usado el método 2.\")\n",
    "        \n",
    "    def method_3(self):\n",
    "        print(\"Has usado el método 3.\")"
   ]
  },
  {
   "cell_type": "markdown",
   "id": "17f67ec6",
   "metadata": {},
   "source": [
    "Completa la clase derivada **DerivedClass** con la información indicada como comentarios."
   ]
  },
  {
   "cell_type": "code",
   "execution_count": 12,
   "id": "388321f1",
   "metadata": {},
   "outputs": [],
   "source": [
    "class DerivedClass(BaseClass):              # ADD CODE. Declare a DerivedClass that inherits from BaseClass\n",
    "\n",
    "    # ADD CODE. Define the constructor with three input parameters: x1,y1,z1. \n",
    "    # The class will have three member variables: x,y from the superclass and z as a new one\n",
    "    # x,y will be used to call the constructor of the superclass (use \"super()\")\n",
    "    # z will be used to assign the member variable z of the DerivedClass\n",
    "    def __init__(self, x1, y1, z1):\n",
    "        super().__init__(x1, y1)\n",
    "        self.z = z1\n",
    "    \n",
    "    # ADD CODE. Define the destructor method. It calls the destructor method of the superclass too.     \n",
    "    def __del__(self):\n",
    "        super().__del__()\n",
    "    \n",
    "    # ADD CODE. Define the 'str' method. Combines the ouput of the 'str' superclass method with the information \n",
    "    # of the member variable 'z'\n",
    "    def __str__(self):\n",
    "        return super().__str__() + \", z1 =\" +str(self.z)\n",
    "    \n",
    "    # ADD CODE Redefine method_2, overriden this method\n",
    "    def method_2(self):\n",
    "        print(\"Has usado el nuevo método 2\")\n",
    "    \n",
    "    # ADD CODE Extend method_3, overriden this method. In this case, the method in the derived class call the \n",
    "    # method in the superclass\n",
    "    def method_3(self):\n",
    "        super().method_3()"
   ]
  },
  {
   "cell_type": "markdown",
   "id": "a8f0ba29",
   "metadata": {},
   "source": [
    "A continuación crearemos **objetos** de las clases anteriores para mostrar su comportamiento. "
   ]
  },
  {
   "cell_type": "code",
   "execution_count": 13,
   "id": "54736bef",
   "metadata": {},
   "outputs": [
    {
     "name": "stdout",
     "output_type": "stream",
     "text": [
      "invoking methods on b\n",
      "vars b = {'x': 1, 'y': 2}\n",
      "Has usado el método 1.\n",
      "Has usado el método 2.\n",
      "Has usado el método 3.\n",
      "x = '1', y = 2\n",
      "invoking methods on d\n",
      "vars d = {'x': 1, 'y': 2, 'z': 3}\n",
      "Has usado el método 1.\n",
      "Has usado el nuevo método 2\n",
      "Has usado el método 3.\n",
      "x = '1', y = 2, z1 =3\n",
      "isinstance tests\n",
      "is b instance of BaseClass? True\n",
      "is d instance of BaseClass? True\n",
      "is b instance of DerivedClass? False\n",
      "is d instance of DerivedClass? True\n",
      "\n",
      "issubclass tests\n",
      "is DerivedClass subclass of BaseClass? True\n",
      "is BaseClass subclass of DerivedClass? False\n",
      "is DerivedClass subclass of DerivedClass? True\n",
      "\n"
     ]
    }
   ],
   "source": [
    "print(\"invoking methods on b\")\n",
    "b = BaseClass(1, 2)  # ADD CODE. Create an object named 'b' of the BaseClass with parameters 1,2 respectively.\n",
    "print('vars b =', vars(b))\n",
    "b.method_1()         # ADD CODE. Call method_1 \n",
    "b.method_2()         # ADD CODE. Call method_2 \n",
    "b.method_3()         # ADD CODE. Call method_3 \n",
    "                     # ADD CODE. Print the object b   \n",
    "print(b)\n",
    "\n",
    "print(\"invoking methods on d\")\n",
    "d = DerivedClass(1, 2, 3) # ADD CODE. Create an object named 'd' of the DerivedClass with parameters 1,2,3 respectively.\n",
    "print('vars d =', vars(d)) # vars es similar a __dict__\n",
    "d.method_1()         # ADD CODE. Call method_1 \n",
    "d.method_2()         # ADD CODE. Call method_2 \n",
    "d.method_3()         # ADD CODE. Call method_3 \n",
    "                     # ADD CODE. Print the object d\n",
    "print(d)\n",
    "\n",
    "print('isinstance tests')\n",
    "print(\"is b instance of BaseClass?\", isinstance(b, BaseClass))\n",
    "print(\"is d instance of BaseClass?\", isinstance(d, BaseClass))           # ADD CODE. Complete ... to ask the question\n",
    "print(\"is b instance of DerivedClass?\", isinstance(b, DerivedClass))        # ADD CODE. Complete ... to ask the question\n",
    "print(\"is d instance of DerivedClass?\", isinstance(d, DerivedClass))        # ADD CODE. Complete ... to ask the question\n",
    "print()\n",
    "\n",
    "print('issubclass tests')\n",
    "print(\"is DerivedClass subclass of BaseClass?\", issubclass(DerivedClass, BaseClass))\n",
    "print(\"is BaseClass subclass of DerivedClass?\", issubclass(BaseClass, DerivedClass))    # ADD CODE. Complete ... to ask the question\n",
    "print(\"is DerivedClass subclass of DerivedClass?\", issubclass(DerivedClass, DerivedClass))    # ADD CODE. Complete ... to ask the question\n",
    "print()"
   ]
  }
 ],
 "metadata": {
  "kernelspec": {
   "display_name": "Python 3 (ipykernel)",
   "language": "python",
   "name": "python3"
  },
  "language_info": {
   "codemirror_mode": {
    "name": "ipython",
    "version": 3
   },
   "file_extension": ".py",
   "mimetype": "text/x-python",
   "name": "python",
   "nbconvert_exporter": "python",
   "pygments_lexer": "ipython3",
   "version": "3.10.9"
  }
 },
 "nbformat": 4,
 "nbformat_minor": 5
}
