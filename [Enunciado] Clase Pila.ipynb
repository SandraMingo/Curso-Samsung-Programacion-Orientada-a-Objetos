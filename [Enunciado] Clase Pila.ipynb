{
 "cells": [
  {
   "cell_type": "markdown",
   "id": "2d07e893",
   "metadata": {},
   "source": [
    "# Clase pila"
   ]
  },
  {
   "cell_type": "markdown",
   "id": "9d9cb108",
   "metadata": {},
   "source": [
    "### La clase `Pila`\n",
    "\n",
    "La clase `Pila`representará una estructura LIFO para almacenar elementos. Como atributo tiene una lista con visibilidad privada para almacenar los datos. Será necesario definir lo siguiente:\n",
    "\n",
    "~~~ {.py}\n",
    "▶ def __init__(self,...)\n",
    "~~~\n",
    "> Construye un objeto `Pila`. No recibe ningún parámetro. Inicializa la lista a vacía.\n",
    "\n",
    "~~~ {.py}\n",
    "▶ def is_empty(self)\n",
    "~~~\n",
    "\n",
    "> Devuelve un booleano indicando si la pila está vacía o no\n",
    "\n",
    "~~~ {.py}\n",
    "▶ def push(self,...)\n",
    "~~~\n",
    "\n",
    "> Añade un elemento a la pila. (Append)\n",
    "\n",
    "~~~ {.py}\n",
    "▶ def pop(self)\n",
    "~~~\n",
    "\n",
    "> Si la lista no está vacía, devuelve el último elemento añadido a la lista. Si está vacía, eleva una excepción indicando el mensaje \"Pila vacía\". Esto se hace mediante .pop\n",
    "\n",
    "~~~ {.py}\n",
    "▶ def __size__(self)\n",
    "~~~\n",
    "\n",
    "> Devuelve el número de elementos de la pila. \n",
    "\n",
    "~~~ {.py}\n",
    "▶ def __str__(self)\n",
    "~~~\n",
    "\n",
    "> Devuelve una cadena que represente a la pila. Será necesario recorrer la lista privada que almacena los elementos  y añadirlo a la cadena de salida.\n",
    "\n",
    "~~~ {.py}\n",
    "▶ def __eq__(self,other)\n",
    "~~~\n",
    "\n",
    "> Compara la pila actual (self) con la pila recibida como parámetro (other). Dos pilas serán iguales si son del mismo tamaño y tienen los elementos iguales en el mismo orden.\n"
   ]
  },
  {
   "cell_type": "code",
   "execution_count": 7,
   "id": "787520f2",
   "metadata": {},
   "outputs": [],
   "source": [
    "# Define la clase Pila    \n",
    "class Pila:\n",
    "    def __init__(self):\n",
    "        self.__a = []\n",
    "        \n",
    "    def is_empty(self):\n",
    "        return len(self.__a) == 0\n",
    "    \n",
    "    def push(self, elemento):\n",
    "        self.__a.append(elemento)\n",
    "        \n",
    "    def pop(self):\n",
    "        if not self.is_empty():\n",
    "            return self.__a.pop()\n",
    "        else:\n",
    "            raise IndexError(\"La pila está vacía\")\n",
    "            \n",
    "    def __size__(self):\n",
    "        return len(self.__a)\n",
    "    \n",
    "    def __str__(self):\n",
    "        cadena = \"[\"\n",
    "        for elemento in self.__a:\n",
    "            cadena += str(elemento) + \",\"\n",
    "        cadena = cadena[:-1] + \"]\"\n",
    "        return cadena\n",
    "    \n",
    "    def __eq__(self, other):\n",
    "        salida = False\n",
    "        if isinstance(other, Pila):\n",
    "            salida = self.__size__() == other.__size__() and self.__a == other.__a\n",
    "        return salida"
   ]
  },
  {
   "cell_type": "code",
   "execution_count": 8,
   "id": "383e3a97",
   "metadata": {},
   "outputs": [
    {
     "name": "stdout",
     "output_type": "stream",
     "text": [
      "[3,6,8,9]\n",
      "[3,6]\n",
      "False\n",
      "[3,6]\n",
      "True\n"
     ]
    }
   ],
   "source": [
    "# Usa la clase Pila. Crea una pila y añade los elementos 3, 6, 8, 9. \n",
    "# Crea otra segunda pila y añade 3 y 6. Muestralas por pantalla. Compara ambas pilas. \n",
    "# Haz dos pops de la primera pila y muestra la pila por pantalla. Vuelve a compararlas. \n",
    "p = Pila()\n",
    "p.push(3)\n",
    "p.push(6)\n",
    "p.push(8)\n",
    "p.push(9)\n",
    "print(p)\n",
    "\n",
    "p2 = Pila()\n",
    "p2.push(3)\n",
    "p2.push(6)\n",
    "\n",
    "print(p2)\n",
    "print(p == p2)\n",
    "\n",
    "p.pop()\n",
    "p.pop()\n",
    "print(p)\n",
    "print(p == p2)"
   ]
  }
 ],
 "metadata": {
  "kernelspec": {
   "display_name": "Python 3 (ipykernel)",
   "language": "python",
   "name": "python3"
  },
  "language_info": {
   "codemirror_mode": {
    "name": "ipython",
    "version": 3
   },
   "file_extension": ".py",
   "mimetype": "text/x-python",
   "name": "python",
   "nbconvert_exporter": "python",
   "pygments_lexer": "ipython3",
   "version": "3.10.9"
  }
 },
 "nbformat": 4,
 "nbformat_minor": 5
}
