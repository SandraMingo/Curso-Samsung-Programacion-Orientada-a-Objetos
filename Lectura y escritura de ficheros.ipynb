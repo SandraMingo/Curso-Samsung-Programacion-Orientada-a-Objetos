{
 "cells": [
  {
   "cell_type": "markdown",
   "metadata": {},
   "source": [
    "## Lectura y escritura de ficheros"
   ]
  },
  {
   "cell_type": "markdown",
   "metadata": {},
   "source": [
    "### 1. Reading and writing text files:"
   ]
  },
  {
   "cell_type": "code",
   "execution_count": 1,
   "metadata": {},
   "outputs": [],
   "source": [
    "import os"
   ]
  },
  {
   "cell_type": "code",
   "execution_count": 25,
   "metadata": {},
   "outputs": [
    {
     "data": {
      "text/plain": [
       "'C:\\\\Users\\\\Sandra\\\\Curso Samsung\\\\POO'"
      ]
     },
     "execution_count": 25,
     "metadata": {},
     "output_type": "execute_result"
    }
   ],
   "source": [
    "# ADD CODE. Get the current working directory (use getcwd of the os library)\n",
    "os.getcwd()"
   ]
  },
  {
   "cell_type": "code",
   "execution_count": 26,
   "metadata": {
    "scrolled": true
   },
   "outputs": [],
   "source": [
    "# ADD CODE. Go to the directory where the file named \"my_file.txt\" is located (use chdir)\n",
    "os.chdir(\"C:\\\\Users\\\\Sandra\\\\Curso Samsung\\\\POO\")"
   ]
  },
  {
   "cell_type": "code",
   "execution_count": 19,
   "metadata": {},
   "outputs": [
    {
     "name": "stdout",
     "output_type": "stream",
     "text": [
      "Este es el archivo de prueba\n",
      "Second line\n",
      "Third line\n",
      "\n"
     ]
    }
   ],
   "source": [
    "# ADD CODE. Open the text file \"my_file.txt\" in read mode.\n",
    "f = open('my_file.txt', \"r\")   \n",
    "\n",
    "# ADD CODE. Read in all at once.\n",
    "texto = f.read()  \n",
    "\n",
    "# ADD CODE. Print out all at once.\n",
    "print(texto)              \n",
    "\n",
    "# ADD CODE. Close the file using the \"close\" function of the handle f\n",
    "f.close()"
   ]
  },
  {
   "cell_type": "code",
   "execution_count": 21,
   "metadata": {},
   "outputs": [
    {
     "name": "stdout",
     "output_type": "stream",
     "text": [
      "Este es el archivo de prueba\n",
      "Second line\n",
      "Third line\n"
     ]
    }
   ],
   "source": [
    "# ADD CODE. Open the text file \"my_file.txt\" in read mode.\n",
    "f = open('my_file.txt', \"r\")   \n",
    "\n",
    "# ADD CODE. Read all the lines of the file\n",
    "all = f.readlines()\n",
    "\n",
    "# ADD CODE. Print out line by line.\n",
    "for linea in all:\n",
    "     print(linea, end = \"\")             \n",
    "\n",
    "# ADD CODE. Close the file using the \"close\" function of the handle f\n",
    "f.close() "
   ]
  },
  {
   "cell_type": "code",
   "execution_count": 5,
   "metadata": {},
   "outputs": [],
   "source": [
    "# ADD CODE. Open the text file \"new_file.txt\" in write mode.\n",
    "f = open('new_file.txt', \"w\")\n",
    "# ADD CODE. Write the sentence 'This is a new file.'\n",
    "f.write(\"This is a new file.\")\n",
    "# ADD CODE. Close the file.\n",
    "f.close()"
   ]
  },
  {
   "cell_type": "code",
   "execution_count": 6,
   "metadata": {},
   "outputs": [],
   "source": [
    "# ADD CODE. Open the text file \"new_file.txt\" in write mode.\n",
    "f = open('new_file.txt', \"w\")         # It opens again the same file in write mode. (Overwrite)\n",
    "# ADD CODE. Write the sentence 'This is another file!'\n",
    "f.write(\"This is another file!\")\n",
    "# ADD CODE. Close the file.\n",
    "f.close()"
   ]
  },
  {
   "cell_type": "code",
   "execution_count": 7,
   "metadata": {},
   "outputs": [],
   "source": [
    "# ADD CODE. Open the text file \"new_file.txt\" in append mode.\n",
    "f = open('new_file.txt', \"a\")\n",
    "# ADD CODE. Write the sentence 'This is the end!'\n",
    "f.write(\"This is the end!\")                     # The sentence will be appended at the end of the file.\n",
    "# ADD CODE. Close the file.\n",
    "f.close()"
   ]
  },
  {
   "cell_type": "markdown",
   "metadata": {},
   "source": [
    "### 2. Using the Pickle library:"
   ]
  },
  {
   "cell_type": "code",
   "execution_count": 8,
   "metadata": {},
   "outputs": [],
   "source": [
    "# Import the library.\n",
    "import pickle"
   ]
  },
  {
   "cell_type": "code",
   "execution_count": 9,
   "metadata": {},
   "outputs": [],
   "source": [
    "x = [1,2,3, {'Name':'John', 'Age':25, 'Score':9}]         # An object."
   ]
  },
  {
   "cell_type": "code",
   "execution_count": 10,
   "metadata": {},
   "outputs": [],
   "source": [
    "# ADD CODE. Use the \"dump\" function\n",
    "pickle.dump(x, open('my_pickle.pkl','wb'))                # To be pickled."
   ]
  },
  {
   "cell_type": "code",
   "execution_count": null,
   "metadata": {},
   "outputs": [],
   "source": [
    "f = open('my_pickle.pkl','wb')\n",
    "pickle.dump(x, f)\n",
    "f.close()"
   ]
  },
  {
   "cell_type": "code",
   "execution_count": 12,
   "metadata": {},
   "outputs": [
    {
     "ename": "NameError",
     "evalue": "name 'x' is not defined",
     "output_type": "error",
     "traceback": [
      "\u001b[1;31m---------------------------------------------------------------------------\u001b[0m",
      "\u001b[1;31mNameError\u001b[0m                                 Traceback (most recent call last)",
      "Cell \u001b[1;32mIn[12], line 2\u001b[0m\n\u001b[0;32m      1\u001b[0m \u001b[38;5;66;03m# ADD CODE. Delete the \"x\" variable\u001b[39;00m\n\u001b[1;32m----> 2\u001b[0m \u001b[38;5;28;01mdel\u001b[39;00m x\n\u001b[0;32m      3\u001b[0m \u001b[38;5;66;03m# ADD CODE. Print the \"x\" variable. It should provides an error\u001b[39;00m\n\u001b[0;32m      4\u001b[0m \u001b[38;5;28mprint\u001b[39m(x)\n",
      "\u001b[1;31mNameError\u001b[0m: name 'x' is not defined"
     ]
    }
   ],
   "source": [
    "# ADD CODE. Delete the \"x\" variable\n",
    "del x\n",
    "# ADD CODE. Print the \"x\" variable. It should provides an error\n",
    "print(x)"
   ]
  },
  {
   "cell_type": "code",
   "execution_count": 13,
   "metadata": {},
   "outputs": [
    {
     "name": "stdout",
     "output_type": "stream",
     "text": [
      "[1, 2, 3, {'Name': 'John', 'Age': 25, 'Score': 9}]\n"
     ]
    }
   ],
   "source": [
    "# ADD CODE. Use the \"load\" function\n",
    "new_x = pickle.load(open('my_pickle.pkl','rb'))           # Bring back the pickled object.\n",
    "print(new_x)"
   ]
  }
 ],
 "metadata": {
  "kernelspec": {
   "display_name": "Python 3 (ipykernel)",
   "language": "python",
   "name": "python3"
  },
  "language_info": {
   "codemirror_mode": {
    "name": "ipython",
    "version": 3
   },
   "file_extension": ".py",
   "mimetype": "text/x-python",
   "name": "python",
   "nbconvert_exporter": "python",
   "pygments_lexer": "ipython3",
   "version": "3.10.9"
  }
 },
 "nbformat": 4,
 "nbformat_minor": 2
}
