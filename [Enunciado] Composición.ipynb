{
 "cells": [
  {
   "cell_type": "markdown",
   "id": "b11eb6cf",
   "metadata": {},
   "source": [
    "## Composición\n",
    "\n",
    "La composición es un concepto clave en la programación orientada a objetos (POO). Se refiere a la relación entre dos clases donde una clase contiene una **instancia de otra clase** como uno de sus miembros o atributos. Esta relación se basa en la idea de que un objeto está **compuesto** por otros objetos. La composición no se limita a una sola clase; puedes tener múltiples clases que se componen entre sí formando una estructura más compleja y jerárquica.\n",
    "\n",
    "### Ejercicio 1\n",
    "Definir las clases `Punto` y `Rectangulo`. La clase `Punto` representa un punto en un plano cartesiano y tiene los atributos `x` e `y` que representan las coordenadas del punto. La clase `Rectangulo` representa un rectángulo en el plano cartesiano y tiene los atributos `punto1` y `punto2`, que son instancias de la clase `Punto` que representan los puntos opuestos del rectángulo.\n",
    "\n",
    "La clase `Punto` debe tener un método `mostrar_coordenadas()` que imprima las coordenadas del punto en el formato `(x, y)`.\n",
    "\n",
    "La clase `Rectangulo` debe tener un método `calcular_area()` que calcule y devuelva el área del rectángulo utilizando la fórmula `base * altura`, donde `base` es la diferencia en valor absoluto entre las coordenadas x de los puntos y `altura` es la diferencia en valor absoluto entre las coordenadas y de los puntos.\n",
    "\n",
    "Además, la clase `Rectangulo` debe tener un método `mostrar_informacion()` que muestre las coordenadas de los dos puntos que forman el rectángulo y el área del mismo.\n",
    "\n",
    "Crear instancias de las clases `Punto` y `Rectangulo`, pasando los valores adecuados para los puntos, y llamar al método `mostrar_informacion()` de la clase `Rectangulo` para mostrar la información del rectángulo."
   ]
  },
  {
   "cell_type": "code",
   "execution_count": 1,
   "id": "a749dd18",
   "metadata": {},
   "outputs": [],
   "source": [
    "# Define la clase Punto\n",
    "class Punto:\n",
    "    def __init__(self, x, y):\n",
    "        self.x = x\n",
    "        self.y = y\n",
    "        \n",
    "    def mostrar_coordenadas(self):\n",
    "        print(\"(\" + str(self.x) + \",\" + str(self.y) + \")\")"
   ]
  },
  {
   "cell_type": "code",
   "execution_count": 2,
   "id": "35e4071f",
   "metadata": {},
   "outputs": [],
   "source": [
    "# Define la clase Rectangulo\n",
    "class Rectangulo:\n",
    "    def __init__(self, punto1, punto2):\n",
    "        self.punto1 = punto1\n",
    "        self.punto2 = punto2\n",
    "        \n",
    "    def calcular_area(self):\n",
    "        base = abs(self.punto1.x - self.punto2.x)\n",
    "        altura = abs(self.punto1.y - self.punto2.y)\n",
    "        return base * altura\n",
    "    \n",
    "    def mostrar_informacion(self):\n",
    "        print(\"Las coordenadas del primer punto son:\", end = \" \")\n",
    "        self.punto1.mostrar_coordenadas()\n",
    "        print(\"Las coordenadas del segundo punto son:\", end = \" \")\n",
    "        self.punto2.mostrar_coordenadas()\n",
    "        print(\"El área del rectángulo es\", self.calcular_area())"
   ]
  },
  {
   "cell_type": "code",
   "execution_count": 3,
   "id": "d30118ac",
   "metadata": {},
   "outputs": [
    {
     "name": "stdout",
     "output_type": "stream",
     "text": [
      "Las coordenadas del primer punto son: (2,3)\n",
      "Las coordenadas del segundo punto son: (7,11)\n",
      "El área del rectángulo es 40\n"
     ]
    }
   ],
   "source": [
    "# Crea instancias u objetos de las clases anteriores\n",
    "punto_a = Punto(2,3)\n",
    "punto_b = Punto(7,11)\n",
    "\n",
    "rect = Rectangulo(punto_a, punto_b)\n",
    "rect.mostrar_informacion()"
   ]
  },
  {
   "cell_type": "markdown",
   "id": "81baa854",
   "metadata": {},
   "source": [
    "### Ejercicio 2\n",
    "\n",
    "Definir las clases `Universidad`, `Facultad` y `Estudiante` en Python. La clase `Universidad` representa una universidad y tiene un atributo `nombre`. La clase `Facultad` representa una facultad en la universidad (pero Universidad y Facultad son clases diferentes) y tiene un atributo `nombre` y una lista de objetos `Estudiante` que representan a los estudiantes matriculados en la facultad.\n",
    "\n",
    "La clase `Estudiante` representa a un estudiante y tiene los atributos `nombre` y `codigo`. La clase `Estudiante` también tiene un método `mostrar_informacion()` que muestra por pantalla el nombre y el código del estudiante.\n",
    "\n",
    "La clase `Facultad` tiene un método `agregar_estudiante()` que recibe un objeto `Estudiante` y lo agrega a la lista de estudiantes de la facultad. La lista será un atributo privado y contará un metodo `estudiantes()` que devolverá dicha lista (utiliza el decorador *@property*).\n",
    "\n",
    "Crear instancias de las clases `Universidad`, `Facultad` y al menos dos objetos `Estudiante`. Luego, agregar los estudiantes a la facultad y llamar al método `mostrar_informacion()` de cada estudiante para mostrar su información.\n",
    "\n",
    "**Nota:** La relación entre `Facultad` y `Estudiante` es de composición, ya que una facultad contiene estudiantes y la existencia de los estudiantes depende de la existencia de la facultad a la que pertenecen."
   ]
  },
  {
   "cell_type": "code",
   "execution_count": 4,
   "id": "1808393c",
   "metadata": {},
   "outputs": [],
   "source": [
    "# Define la clase Universidad\n",
    "class Universidad:\n",
    "    def __init__(self, nombre):\n",
    "        self.nombre = nombre"
   ]
  },
  {
   "cell_type": "code",
   "execution_count": 5,
   "id": "05086210",
   "metadata": {},
   "outputs": [],
   "source": [
    "# Define la clase Facultad\n",
    "class Facultad:\n",
    "    def __init__(self, nombre, lista_estudiantes = []):\n",
    "        self.nombre = nombre\n",
    "        self.__lista = lista_estudiantes\n",
    "        \n",
    "    def agregar_estudiante(self, estudiante):\n",
    "        self.__lista.append(estudiante)\n",
    "        \n",
    "    @property    \n",
    "    def estudiantes(self):\n",
    "        return self.__lista"
   ]
  },
  {
   "cell_type": "code",
   "execution_count": 6,
   "id": "04287378",
   "metadata": {},
   "outputs": [],
   "source": [
    "# Define la clase Estudiante\n",
    "class Estudiante:\n",
    "    def __init__(self, nombre, codigo):\n",
    "        self.nombre = nombre\n",
    "        self.codigo = codigo\n",
    "    \n",
    "    def mostrar_informacion(self):\n",
    "        print(\"Su nombre es\", self.nombre, \"y su código es\", self.codigo)"
   ]
  },
  {
   "cell_type": "code",
   "execution_count": 7,
   "id": "f848fdd5",
   "metadata": {},
   "outputs": [
    {
     "name": "stdout",
     "output_type": "stream",
     "text": [
      "Su nombre es Ana y su código es C001\n",
      "Su nombre es Juan y su código es C002\n"
     ]
    }
   ],
   "source": [
    "# Crea instancias de las clases anteriores\n",
    "uma = Universidad(\"UMA\")\n",
    "fac = Facultad(\"Facultad de Ingeniería\")\n",
    "estudiante1 = Estudiante(\"Ana\", \"C001\")\n",
    "estudiante2 = Estudiante(\"Juan\", \"C002\")\n",
    "\n",
    "fac.agregar_estudiante(estudiante1)\n",
    "fac.agregar_estudiante(estudiante2)\n",
    "\n",
    "lista = fac.estudiantes\n",
    "\n",
    "for estudiante in lista:\n",
    "    estudiante.mostrar_informacion()"
   ]
  }
 ],
 "metadata": {
  "kernelspec": {
   "display_name": "Python 3 (ipykernel)",
   "language": "python",
   "name": "python3"
  },
  "language_info": {
   "codemirror_mode": {
    "name": "ipython",
    "version": 3
   },
   "file_extension": ".py",
   "mimetype": "text/x-python",
   "name": "python",
   "nbconvert_exporter": "python",
   "pygments_lexer": "ipython3",
   "version": "3.10.9"
  }
 },
 "nbformat": 4,
 "nbformat_minor": 5
}
