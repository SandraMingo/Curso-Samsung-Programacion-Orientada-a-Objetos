{
 "cells": [
  {
   "cell_type": "markdown",
   "id": "5c0188f5",
   "metadata": {},
   "source": [
    "# Ejercicios simples Clases y objetos"
   ]
  },
  {
   "cell_type": "markdown",
   "id": "da96ffcd",
   "metadata": {},
   "source": [
    "---\n",
    "## Ejercicio 1\n",
    "\n",
    "Crea una clase **Persona** que tenga los siguientes atributos:\n",
    "\n",
    "- *nombre*: una cadena de texto que representa el nombre de la persona.\n",
    "- *edad*: un número entero que representa la edad de la persona.\n",
    "\n",
    "La clase debe tener un método llamado *saludar* que imprima un saludo con el nombre de la persona."
   ]
  },
  {
   "cell_type": "code",
   "execution_count": 1,
   "id": "fd9b5e5c",
   "metadata": {},
   "outputs": [
    {
     "name": "stdout",
     "output_type": "stream",
     "text": [
      "Hola, Sandra\n"
     ]
    }
   ],
   "source": [
    "# Código para definir la clase\n",
    "class Persona:\n",
    "    def __init__(self, nombre, edad):\n",
    "        self.nombre = nombre\n",
    "        self.edad = edad\n",
    "    def saludar(self):\n",
    "        print(\"Hola,\", self.nombre)"
   ]
  },
  {
   "cell_type": "markdown",
   "id": "92734285",
   "metadata": {},
   "source": [
    "### Uso de la clase\n",
    "Crea un objeto de la clase **Persona** con nombre *Juan* y edad *25*. Accede a los atributos del objeto y muéstralos por pantalla y utiliza el método *saludar* para imprimir un saludo personalizado."
   ]
  },
  {
   "cell_type": "code",
   "execution_count": 27,
   "id": "5d19f7c6",
   "metadata": {},
   "outputs": [
    {
     "name": "stdout",
     "output_type": "stream",
     "text": [
      "Juan 25\n",
      "Hola, Juan\n"
     ]
    }
   ],
   "source": [
    "# Código para usar la clase\n",
    "persona1 = Persona(\"Juan\", 25)\n",
    "\n",
    "print(persona1.nombre, persona1.edad)\n",
    "persona1.saludar()"
   ]
  },
  {
   "cell_type": "markdown",
   "id": "5afb5c0c",
   "metadata": {},
   "source": [
    "---\n",
    "## Ejercicio 2 \n",
    "\n",
    "Crea una clase llamada **Rectangulo** que tenga los siguientes atributos:\n",
    "\n",
    "- *base*: un número que representa la longitud de la base del rectángulo.\n",
    "- *altura*: un número que representa la altura del rectángulo.\n",
    "\n",
    "La clase debe tener dos **métodos**:\n",
    "\n",
    "- *calcularArea*: calcula y devuelve el área del rectángulo.\n",
    "- *calcularPerimetro*: calcula y devuelve el perímetro del rectángulo."
   ]
  },
  {
   "cell_type": "code",
   "execution_count": 28,
   "id": "622bcf58",
   "metadata": {},
   "outputs": [],
   "source": [
    "# Código para definir la clase\n",
    "class Rectangulo:\n",
    "    def __init__(self, base, altura):\n",
    "        self.base = base\n",
    "        self.altura = altura\n",
    "        \n",
    "    def calcularArea(self):\n",
    "        return self.base * self.altura\n",
    "    \n",
    "    def calcularPerimetro(self):\n",
    "        return 2 * self.base + 2 * self.altura"
   ]
  },
  {
   "cell_type": "markdown",
   "id": "ba93bb80",
   "metadata": {},
   "source": [
    "### Uso de la clase\n",
    "\n",
    "Crea un objeto de la clase **Rectangulo** con una base de 4 y una altura de 6. Luego, utiliza los métodos *calcularArea* y *calcularPerimetro* para obtener el área y el perímetro del rectángulo, respectivamente, y mostrarlos por pantalla."
   ]
  },
  {
   "cell_type": "code",
   "execution_count": 33,
   "id": "423ebee8",
   "metadata": {},
   "outputs": [
    {
     "name": "stdout",
     "output_type": "stream",
     "text": [
      "El área del rectángulo es 24 y el perímetro es 20\n"
     ]
    }
   ],
   "source": [
    "# Código para usar la clase\n",
    "rectangulo1 = Rectangulo(4,6)\n",
    "print(\"El área del rectángulo es\", rectangulo1.calcularArea(), \"y el perímetro es\", rectangulo1.calcularPerimetro())"
   ]
  },
  {
   "cell_type": "markdown",
   "id": "b0414ccb",
   "metadata": {},
   "source": [
    "---\n",
    "## Ejercicio 3\n",
    "\n",
    "Crea una clase llamada **CuentaBancaria** que tenga los siguientes atributos:\n",
    "\n",
    "- *titular*: una cadena de texto que representa el titular de la cuenta.\n",
    "- *saldo*: un número que representa el saldo actual de la cuenta (valor predeterminado: 0).\n",
    "\n",
    "La clase debe tener los siguientes **métodos**:\n",
    "\n",
    "- *depositar*: recibe una cantidad y la suma al saldo actual. Además, imprime un mensaje indicando la cantidad depositada y el saldo actual.\n",
    "- *retirar*: recibe una cantidad y la resta al saldo actual, pero solo si hay saldo suficiente. Si no, imprime un mensaje de *Saldo insuficiente*. Luego, imprime el saldo actual.\n",
    "- *verificarSaldo*: recibe una cantidad y verifica si hay saldo suficiente para realizar una transacción. Devuelve True si hay saldo suficiente, o False en caso contrario.\n"
   ]
  },
  {
   "cell_type": "code",
   "execution_count": 31,
   "id": "3ed54ffd",
   "metadata": {},
   "outputs": [],
   "source": [
    "# Código para definir la clase\n",
    "class CuentaBancaria:\n",
    "    def __init__(self, titular, saldo = 0):\n",
    "        self.titular = titular\n",
    "        self.saldo = saldo\n",
    "        \n",
    "    def depositar(self, cantidad):\n",
    "        self.saldo += cantidad\n",
    "        print(\"Usted ha ingresado\", cantidad, \"euros. Su saldo actual es de\", self.saldo)\n",
    "            \n",
    "    def verificarSaldo(self, cantidad):\n",
    "        saldo_suficiente = False\n",
    "        if self.saldo >= cantidad:\n",
    "            saldo_suficiente = True\n",
    "        return saldo_suficiente\n",
    "    \n",
    "    def retirar(self, cantidad):\n",
    "        if self.verificarSaldo(cantidad) == True:\n",
    "            self.saldo -= cantidad\n",
    "        else:\n",
    "            print(\"Saldo insuficiente\")\n",
    "        print(\"El saldo actual es\", self.saldo)"
   ]
  },
  {
   "cell_type": "markdown",
   "id": "96d6079a",
   "metadata": {},
   "source": [
    "### Uso de la clase\n",
    "\n",
    "Crea un objeto de la clase **CuentaBancaria** con titular \"Antonio\" y saldo inicial de 0. Luego, utiliza los métodos *depositar* y *retirar* para realizar transacciones en la cuenta. Cada vez que se realiza una operación, se imprime un mensaje indicando la cantidad depositada o retirada, así como el saldo actual. Además, se realiza una verificación para asegurarse de que haya saldo suficiente antes de realizar una operación de retiro."
   ]
  },
  {
   "cell_type": "code",
   "execution_count": 32,
   "id": "bf3ae0c6",
   "metadata": {},
   "outputs": [
    {
     "name": "stdout",
     "output_type": "stream",
     "text": [
      "Usted ha ingresado 10 euros. Su saldo actual es de 10\n",
      "El saldo actual es 5\n",
      "Saldo insuficiente\n",
      "El saldo actual es 5\n"
     ]
    },
    {
     "data": {
      "text/plain": [
       "True"
      ]
     },
     "execution_count": 32,
     "metadata": {},
     "output_type": "execute_result"
    }
   ],
   "source": [
    "# Código para usar la clase\n",
    "cuenta = CuentaBancaria(\"Antonio\")\n",
    "cuenta.depositar(10)\n",
    "cuenta.retirar(5)\n",
    "cuenta.retirar(6)\n",
    "cuenta.verificarSaldo(4)"
   ]
  }
 ],
 "metadata": {
  "kernelspec": {
   "display_name": "Python 3 (ipykernel)",
   "language": "python",
   "name": "python3"
  },
  "language_info": {
   "codemirror_mode": {
    "name": "ipython",
    "version": 3
   },
   "file_extension": ".py",
   "mimetype": "text/x-python",
   "name": "python",
   "nbconvert_exporter": "python",
   "pygments_lexer": "ipython3",
   "version": "3.10.9"
  }
 },
 "nbformat": 4,
 "nbformat_minor": 5
}
