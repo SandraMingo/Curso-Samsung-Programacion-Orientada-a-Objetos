{
 "cells": [
  {
   "cell_type": "markdown",
   "metadata": {},
   "source": [
    "## Constructor, destructor and member variables"
   ]
  },
  {
   "cell_type": "markdown",
   "metadata": {},
   "source": [
    "### 1. Class:"
   ]
  },
  {
   "cell_type": "markdown",
   "metadata": {},
   "source": [
    "#### 1.1. Constructor method:"
   ]
  },
  {
   "cell_type": "code",
   "execution_count": 1,
   "metadata": {},
   "outputs": [],
   "source": [
    "# Define a class which represents a dog. It stores its name and age. \n",
    "class Dog:                   # ADD CODE\n",
    "    def __init__(self, name, age):               # ADD CODE. Constructor. Receives the self object and two parameters (name, age)\n",
    "        self.name = name      # ADD CODE. Assign the input parameter \"name\" \n",
    "        self.age = age            # ADD CODE. Assign the input parameter \"age\" \n",
    "        print('A Dog object is created!')"
   ]
  },
  {
   "cell_type": "code",
   "execution_count": 2,
   "metadata": {},
   "outputs": [
    {
     "name": "stdout",
     "output_type": "stream",
     "text": [
      "A Dog object is created!\n"
     ]
    }
   ],
   "source": [
    "a_dog = Dog(\"Buba\", 7)                  # ADD CODE. Create an object of the Dog class"
   ]
  },
  {
   "cell_type": "markdown",
   "metadata": {},
   "source": [
    "#### 1.2. Destructor method:"
   ]
  },
  {
   "cell_type": "code",
   "execution_count": 14,
   "metadata": {},
   "outputs": [],
   "source": [
    "# Rewrite the previous class Dog with a destructor method.\n",
    "\n",
    "class Dog:\n",
    "    def __init__(self, name, age):               \n",
    "        self.name = name   \n",
    "        self.age = age  \n",
    "        print('A Dog object is created!')\n",
    "        \n",
    "    def __del__(self):                 # ADD CODE. Define de destructor method (__del__). Receives the self object\n",
    "        print('A Dog object is deleted!')"
   ]
  },
  {
   "cell_type": "code",
   "execution_count": 15,
   "metadata": {},
   "outputs": [
    {
     "name": "stdout",
     "output_type": "stream",
     "text": [
      "A Dog object is created!\n"
     ]
    }
   ],
   "source": [
    "a_dog = Dog(\"Doggy\", 5)                 # ADD CODE. Create an object of the Dog class"
   ]
  },
  {
   "cell_type": "code",
   "execution_count": 16,
   "metadata": {},
   "outputs": [
    {
     "name": "stdout",
     "output_type": "stream",
     "text": [
      "A Dog object is deleted!\n"
     ]
    }
   ],
   "source": [
    "del a_dog                      # ADD CODE. Delete the a_dog object"
   ]
  },
  {
   "cell_type": "markdown",
   "metadata": {},
   "source": [
    "#### 1.3. Memeber variable:"
   ]
  },
  {
   "cell_type": "code",
   "execution_count": 17,
   "metadata": {},
   "outputs": [
    {
     "name": "stdout",
     "output_type": "stream",
     "text": [
      "A Dog object is created!\n",
      "A Dog object is created!\n"
     ]
    }
   ],
   "source": [
    "dog1 = Dog(\"Fido\", 2)                  # ADD CODE. Create an object of the Dog with name \"Fido\" and age 2\n",
    "dog2 = Dog(\"Dido\", 3)                  # ADD CODE. Create an object of the Dog with name \"Dido\" and age 3"
   ]
  },
  {
   "cell_type": "code",
   "execution_count": 19,
   "metadata": {},
   "outputs": [
    {
     "name": "stdout",
     "output_type": "stream",
     "text": [
      "Name: Fido\n",
      "Age: 2\n"
     ]
    }
   ],
   "source": [
    "print(\"Name:\", dog1.name)\n",
    "print(\"Age:\", dog1.age)\n",
    "\n",
    "# ADD CODE. Show the members variables of the dog1 object"
   ]
  },
  {
   "cell_type": "code",
   "execution_count": 20,
   "metadata": {},
   "outputs": [
    {
     "name": "stdout",
     "output_type": "stream",
     "text": [
      "Name: Dido\n",
      "Age: 3\n"
     ]
    }
   ],
   "source": [
    "print(\"Name:\", dog2.name)\n",
    "print(\"Age:\", dog2.age)                 # ADD CODE. Show the members variables of the dog2 object"
   ]
  },
  {
   "cell_type": "markdown",
   "metadata": {},
   "source": [
    "#### 1.4. Class variable:"
   ]
  },
  {
   "cell_type": "code",
   "execution_count": 24,
   "metadata": {},
   "outputs": [],
   "source": [
    "class Dog:\n",
    "    counter = 0                    # ADD CODE. Define a class variable assigned to 0\n",
    "    def __init__(self, name):\n",
    "        self.name = name\n",
    "        Dog.counter += 1           # ADD CODE. Increment the counter after the creation of an object\n",
    "    def __del__(self):\n",
    "        Dog.counter -= 1           # ADD CODE. Decrement the counter after the delete of an object"
   ]
  },
  {
   "cell_type": "code",
   "execution_count": 25,
   "metadata": {},
   "outputs": [],
   "source": [
    "# ADD CODE. Create 2 Dog objects.\n",
    "dog1 = Dog(\"Fido\")   \n",
    "dog2 = Dog(\"Dido\")     "
   ]
  },
  {
   "cell_type": "code",
   "execution_count": 26,
   "metadata": {},
   "outputs": [
    {
     "name": "stdout",
     "output_type": "stream",
     "text": [
      "2\n"
     ]
    }
   ],
   "source": [
    "# ADD CODE. Show the class variable (counter) of the Dog class\n",
    "print(Dog.counter)"
   ]
  },
  {
   "cell_type": "code",
   "execution_count": 27,
   "metadata": {},
   "outputs": [
    {
     "name": "stdout",
     "output_type": "stream",
     "text": [
      "1\n"
     ]
    }
   ],
   "source": [
    "# ADD CODE. Delete one object and show the counter\n",
    "del dog1\n",
    "print(Dog.counter)"
   ]
  },
  {
   "cell_type": "code",
   "execution_count": 28,
   "metadata": {},
   "outputs": [
    {
     "name": "stdout",
     "output_type": "stream",
     "text": [
      "0\n"
     ]
    }
   ],
   "source": [
    "# ADD CODE. Delete the second object and show the counter\n",
    "del dog2\n",
    "print(Dog.counter)"
   ]
  },
  {
   "cell_type": "markdown",
   "metadata": {},
   "source": [
    "#### 1.5. Member method:"
   ]
  },
  {
   "cell_type": "code",
   "execution_count": 33,
   "metadata": {},
   "outputs": [],
   "source": [
    "class Dog:\n",
    "    def __init__(self, name, age):\n",
    "        self.name = name\n",
    "        self.age = age\n",
    "    def bark(self):\n",
    "        print(self.name, \"está ladrando... Woof woof\") # ADD CODE. Define a method \"bark\" that show a personalized message"
   ]
  },
  {
   "cell_type": "code",
   "execution_count": 34,
   "metadata": {},
   "outputs": [
    {
     "name": "stdout",
     "output_type": "stream",
     "text": [
      "Baduk está ladrando... Woof woof\n"
     ]
    }
   ],
   "source": [
    "a_dog = Dog('Baduk', 2)\n",
    "a_dog.bark() # ADD CODE. Call the member method \"bark\""
   ]
  }
 ],
 "metadata": {
  "kernelspec": {
   "display_name": "Python 3 (ipykernel)",
   "language": "python",
   "name": "python3"
  },
  "language_info": {
   "codemirror_mode": {
    "name": "ipython",
    "version": 3
   },
   "file_extension": ".py",
   "mimetype": "text/x-python",
   "name": "python",
   "nbconvert_exporter": "python",
   "pygments_lexer": "ipython3",
   "version": "3.10.9"
  }
 },
 "nbformat": 4,
 "nbformat_minor": 2
}
